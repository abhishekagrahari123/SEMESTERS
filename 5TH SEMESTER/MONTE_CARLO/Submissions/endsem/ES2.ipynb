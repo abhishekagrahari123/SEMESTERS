{
 "cells": [
  {
   "cell_type": "code",
   "execution_count": 57,
   "id": "37dd3522",
   "metadata": {},
   "outputs": [],
   "source": [
    "import numpy as np\n",
    "import math\n",
    "import matplotlib.pyplot as plt\n",
    "import statistics"
   ]
  },
  {
   "cell_type": "code",
   "execution_count": 58,
   "id": "6f370dff",
   "metadata": {},
   "outputs": [],
   "source": [
    "# generates random numbers from [0,1]\n",
    "(a, c, m, x) = (2057, 1345, pow(2, 50), 3245)\n",
    "def uniform():\n",
    "    global x\n",
    "    x = (a * x + c) % m \n",
    "    return x/m"
   ]
  },
  {
   "cell_type": "code",
   "execution_count": 59,
   "id": "710fbd20",
   "metadata": {},
   "outputs": [],
   "source": [
    "# generates normal distribution with mean μ and standard deviation σ\n",
    "def BoxMuller(μ,σ):\n",
    "    R = np.sqrt(-2*np.log(uniform()))\n",
    "    θ = 2*np.pi*uniform()\n",
    "    return μ + σ*R*np.sin(θ)"
   ]
  },
  {
   "cell_type": "code",
   "execution_count": 63,
   "id": "b5a337d1",
   "metadata": {},
   "outputs": [
    {
     "name": "stdout",
     "output_type": "stream",
     "text": [
      "P(X>4) = 1e-08\n",
      "Standard error is 0.01\n",
      "CI = [-0.02579999,0.02580001]\n",
      "Variance =  0.0001\n"
     ]
    }
   ],
   "source": [
    "P = []\n",
    "N = 10000\n",
    "for i in range(10000):\n",
    "    I = 0\n",
    "    X = BoxMuller(0,1)\n",
    "    if X > 4:\n",
    "        I = 1\n",
    "    P.append(I)\n",
    "\n",
    "prob = np.mean(P)/N\n",
    "var = statistics.variance(P)\n",
    "std_err = np.sqrt(var)\n",
    "print(f\"P(X>4) = {prob}\")\n",
    "print(f\"Standard error is {std_err}\")\n",
    "print(f\"CI = [{prob-2.58*std_err},{prob+2.58*std_err}]\")\n",
    "print(f\"Variance = \", std_err*std_err)"
   ]
  },
  {
   "cell_type": "code",
   "execution_count": 64,
   "id": "8a370a0c",
   "metadata": {},
   "outputs": [],
   "source": [
    "def p(x):\n",
    "    return 1/math.sqrt(2*math.pi)*math.exp(-0.5*x*x)\n",
    "def q(x):\n",
    "    return math.sqrt(2/math.pi)*math.exp(-0.5*(x-4)**2)\n",
    "def f(x):\n",
    "    if x > 4:\n",
    "        return 1\n",
    "    else:\n",
    "        return 0"
   ]
  },
  {
   "cell_type": "code",
   "execution_count": 65,
   "id": "857b4a00",
   "metadata": {},
   "outputs": [
    {
     "name": "stdout",
     "output_type": "stream",
     "text": [
      "μ_imp =  1.566371704329154e-05\n",
      "Std Error =  3.3359566264149764e-05\n",
      "CI = [3.1453964494128334e-05,3.145970685514081e-05]\n",
      "Variance =  1.112860661332199e-09\n"
     ]
    }
   ],
   "source": [
    "h=np.zeros(N)\n",
    "for i in range(N):\n",
    "    X=BoxMuller(4,1)\n",
    "    h[i]=(f(X)*p(X))/q(X)\n",
    "\n",
    "μ_imp = np.mean(h)\n",
    "std_err = np.std(h)\n",
    "print(f\"μ_imp = \",μ_imp)\n",
    "print(f\"Std Error = \",std_err)\n",
    "print(f\"CI = [{u_imp-2.58*np.var(h)},{u_imp+2.58*np.var(h)}]\")\n",
    "print(f\"Variance = \", std_err*std_err)"
   ]
  },
  {
   "cell_type": "code",
   "execution_count": null,
   "id": "72a36139",
   "metadata": {},
   "outputs": [],
   "source": []
  },
  {
   "cell_type": "code",
   "execution_count": null,
   "id": "e01cfb18",
   "metadata": {},
   "outputs": [],
   "source": []
  }
 ],
 "metadata": {
  "kernelspec": {
   "display_name": "Python 3",
   "language": "python",
   "name": "python3"
  },
  "language_info": {
   "codemirror_mode": {
    "name": "ipython",
    "version": 3
   },
   "file_extension": ".py",
   "mimetype": "text/x-python",
   "name": "python",
   "nbconvert_exporter": "python",
   "pygments_lexer": "ipython3",
   "version": "3.8.8"
  }
 },
 "nbformat": 4,
 "nbformat_minor": 5
}
