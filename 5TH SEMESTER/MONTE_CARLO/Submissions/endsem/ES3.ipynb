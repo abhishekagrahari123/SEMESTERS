{
 "cells": [
  {
   "cell_type": "code",
   "execution_count": 16,
   "id": "539e25db",
   "metadata": {},
   "outputs": [],
   "source": [
    "# this function generates given no of random numbers from [0,1]\n",
    "# Xo is the seed\n",
    "# full period if m is a power of 2, c is odd and a is 4*n + 1\n",
    "import math\n",
    "import numpy as np\n",
    "import statistics\n",
    "(a, c, m, x) = (2053, 1345, pow(2, 40), 3245)\n",
    "\n",
    "def Uniform_Distribution():\n",
    "    global x\n",
    "    x = (a * x + c) % m \n",
    "    return x/m"
   ]
  },
  {
   "cell_type": "code",
   "execution_count": 17,
   "id": "66ce8125",
   "metadata": {},
   "outputs": [],
   "source": [
    "def Gamma(α, β):\n",
    "    n = α\n",
    "    y = 0\n",
    "    while n > 0:\n",
    "        u = Uniform_Distribution()\n",
    "        x = -1*np.log(u)\n",
    "        y = y + x\n",
    "        n = n-1\n",
    "    return y/β"
   ]
  },
  {
   "cell_type": "code",
   "execution_count": 18,
   "id": "4d275fb5",
   "metadata": {},
   "outputs": [],
   "source": [
    "def f(x):\n",
    "    return np.log(1+x)/x"
   ]
  },
  {
   "cell_type": "code",
   "execution_count": 19,
   "id": "8adfcf5c",
   "metadata": {},
   "outputs": [
    {
     "name": "stdout",
     "output_type": "stream",
     "text": [
      "Estimated E[h(X,Y)] =  0.6737996806270716\n",
      "Estimated variance =  0.018594256330639537\n"
     ]
    }
   ],
   "source": [
    "h = []\n",
    "for i in range(10000):\n",
    "    Y = Gamma(2,1.5)\n",
    "    h.append(f(Y))\n",
    "μ_cond = np.mean(h)\n",
    "Variance = statistics.variance(h)\n",
    "\n",
    "print(\"Estimated E[h(X,Y)] = \", μ_cond)\n",
    "print(\"Estimated variance = \", Variance)"
   ]
  },
  {
   "cell_type": "code",
   "execution_count": null,
   "id": "af574191",
   "metadata": {},
   "outputs": [],
   "source": []
  }
 ],
 "metadata": {
  "kernelspec": {
   "display_name": "Python 3",
   "language": "python",
   "name": "python3"
  },
  "language_info": {
   "codemirror_mode": {
    "name": "ipython",
    "version": 3
   },
   "file_extension": ".py",
   "mimetype": "text/x-python",
   "name": "python",
   "nbconvert_exporter": "python",
   "pygments_lexer": "ipython3",
   "version": "3.8.8"
  }
 },
 "nbformat": 4,
 "nbformat_minor": 5
}
