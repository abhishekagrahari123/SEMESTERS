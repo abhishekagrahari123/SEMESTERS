{
 "cells": [
  {
   "cell_type": "code",
   "execution_count": 12,
   "id": "7e5a11f7",
   "metadata": {},
   "outputs": [],
   "source": [
    "import numpy as np\n",
    "import matplotlib.pyplot as plt\n",
    "from matplotlib.pyplot import figure\n",
    "from statistics import mean\n",
    "import math\n",
    "import numpy.random as rd"
   ]
  },
  {
   "cell_type": "code",
   "execution_count": 13,
   "id": "b16dfce3",
   "metadata": {},
   "outputs": [],
   "source": [
    "# this function generates given no of random numbers from [0,1]\n",
    "# Xo is the seed\n",
    "# full period if m is a power of 2, c is odd and a is 4*n + 1\n",
    "def Uniform_Distribution(Xo, m, a, c,N):\n",
    "    arr1 = []\n",
    "    arr = []\n",
    "    arr1.append(Xo%m)\n",
    "    for i in range(1, N):\n",
    "        arr1.append((arr1[i - 1] * a + c) % m)\n",
    "    for i in range(0,N):\n",
    "        arr.append(arr1[i]/m)\n",
    "    return arr"
   ]
  },
  {
   "cell_type": "code",
   "execution_count": 14,
   "id": "93c648e1",
   "metadata": {},
   "outputs": [],
   "source": [
    "# Target density function\n",
    "def f(x):\n",
    "    return 20*x*((1-x)**3)\n",
    "\n",
    "# taking g(x) = 1\n",
    "\n",
    "def Acceptance_Rejection(N,c):\n",
    "    rejected_cnt = 0\n",
    "    Iteration_req = []\n",
    "    \n",
    "# it is the number of uniform random numbers generated\n",
    "# to be sufficient for acceptance rejection method\n",
    "    num = 10**6\n",
    "    \n",
    "# values of a,m,c are choosen so that it can have full period\n",
    "    U1 = Uniform_Distribution(31, 2**60, 101, 3,num)\n",
    "    U2 = Uniform_Distribution(19, 2**60, 65, 9,num)\n",
    "    \n",
    "    out = np.zeros(N)\n",
    "    j = 0\n",
    "    for i in range(N):\n",
    "        last_cnt = rejected_cnt\n",
    "        while True:\n",
    "            rejected_cnt = rejected_cnt + 1\n",
    "            x = U1[j]\n",
    "            u = U2[j]\n",
    "            j = j + 1\n",
    "# accepting x with prob f(x)/c*g(x), here g(x) is uniform [0,1]\n",
    "            if u <= f(x)/(c*1):\n",
    "                out[i] = x\n",
    "                Iteration_req.append(rejected_cnt-last_cnt)\n",
    "# subtracting 1 for last accepted number\n",
    "                rejected_cnt = rejected_cnt - 1\n",
    "                break\n",
    "    return Iteration_req, out"
   ]
  },
  {
   "cell_type": "code",
   "execution_count": 15,
   "id": "e4bc7bb7",
   "metadata": {},
   "outputs": [
    {
     "name": "stdout",
     "output_type": "stream",
     "text": [
      "1.(a) 2.109375\n",
      "1.(b) Mean of the sample:  0.33218115767153766\n",
      "1.(c) P(0.25 <= X <= 0.75) = 0.6184\n",
      "1.(d) 2.1281\n"
     ]
    },
    {
     "data": {
      "image/png": "[encoded data removed]",
      "text/plain": [
       "<Figure size 432x288 with 1 Axes>"
      ]
     },
     "metadata": {
      "needs_background": "light"
     },
     "output_type": "display_data"
    }
   ],
   "source": [
    "c = 2.109375\n",
    "Iteration_req1, X1 = Acceptance_Rejection(10**4, c)\n",
    "print(f\"1.(a) {c}\")\n",
    "\n",
    "print(\"1.(b) Mean of the sample: \", mean(X1))\n",
    "# This value is very close to the expectation of the PDF which is 1/3 = 0.333333334\n",
    "\n",
    "count1 = 0\n",
    "for i in range(10**4):\n",
    "    if  0.25 <= X1[i] and X1[i] <= 0.75:\n",
    "        count1 = count1 + 1   \n",
    "print(f\"1.(c) P(0.25 <= X <= 0.75) = {count1/10**4}\")\n",
    "\n",
    "print(f\"1.(d) {mean(Iteration_req1)}\")\n",
    "# it is comparable to that in (a)\n",
    "\n",
    "# e\n",
    "plt.figure()\n",
    "plt.hist(X1,bins = 50, density = True)\n",
    "x = np.arange(0, 1, 0.01)\n",
    "y = 20*x*(1-x)**3\n",
    "plt.plot(x,y)\n",
    "plt.show()"
   ]
  },
  {
   "cell_type": "code",
   "execution_count": 16,
   "id": "b98bd9bc",
   "metadata": {},
   "outputs": [
    {
     "name": "stdout",
     "output_type": "stream",
     "text": [
      "1.(a) 3\n",
      "1.(b) Mean of the sample:  0.33203779401702116\n",
      "1.(c) P(0.25 <= X <= 0.75) = 0.618\n",
      "1.(d) 2.9976\n"
     ]
    },
    {
     "data": {
      "image/png": "[encoded data removed]",
      "text/plain": [
       "<Figure size 432x288 with 1 Axes>"
      ]
     },
     "metadata": {
      "needs_background": "light"
     },
     "output_type": "display_data"
    }
   ],
   "source": [
    "c = 3\n",
    "Iteration_req2, X2 = Acceptance_Rejection(10**4, c)\n",
    "print(f\"1.(a) {c}\") \n",
    "\n",
    "print(f\"1.(b) Mean of the sample: \", mean(X2))\n",
    "# This value is very close to the expectation of the PDF which is 1/3 = 0.333333334\n",
    "\n",
    "count2 = 0\n",
    "for i in range(10**4):\n",
    "    if  0.25 <= X2[i] and X2[i] <= 0.75:\n",
    "        count2 = count2 + 1   \n",
    "print(f\"1.(c) P(0.25 <= X <= 0.75) = {count2/10**4}\")\n",
    "\n",
    "print(f\"1.(d) {mean(Iteration_req2)}\")\n",
    "# it is comparable to that in (a)\n",
    "\n",
    "# e\n",
    "plt.figure()\n",
    "plt.hist(X2,bins = 50, density = True)\n",
    "x = np.arange(0, 1, 0.01)\n",
    "y = 20*x*(1-x)**3\n",
    "plt.plot(x,y)\n",
    "plt.show()"
   ]
  },
  {
   "cell_type": "code",
   "execution_count": 17,
   "id": "caddf83a",
   "metadata": {},
   "outputs": [
    {
     "name": "stdout",
     "output_type": "stream",
     "text": [
      "1.(a) 4\n",
      "1.(b) Mean of the sample:  0.33186951688503313\n",
      "1.(c) P(0.25 <= X <= 0.75) = 0.6162\n",
      "1.(d) 4.0214\n"
     ]
    },
    {
     "data": {
      "image/png": "[encoded data removed]",
      "text/plain": [
       "<Figure size 432x288 with 1 Axes>"
      ]
     },
     "metadata": {
      "needs_background": "light"
     },
     "output_type": "display_data"
    }
   ],
   "source": [
    "c = 4\n",
    "Iteration_req3, X3 = Acceptance_Rejection(10**4,c)\n",
    "print(f\"1.(a) {c}\") \n",
    "\n",
    "print(f\"1.(b) Mean of the sample: \", mean(X3))\n",
    "# This value is very close to the expectation of the PDF which is 1/3 = 0.333333334\n",
    "\n",
    "count3 = 0\n",
    "for i in range(10**4):\n",
    "    if  0.25 <= X3[i] and X3[i] <= 0.75:\n",
    "        count3 = count3 + 1   \n",
    "print(f\"1.(c) P(0.25 <= X <= 0.75) = {count3/10**4}\")\n",
    "\n",
    "print(f\"1.(d) {mean(Iteration_req3)}\")\n",
    "# it is comparable to that in (a)\n",
    "\n",
    "# e\n",
    "plt.figure()\n",
    "plt.hist(X3,bins = 50, density = True)\n",
    "x = np.arange(0, 1, 0.01)\n",
    "y = 20*x*(1-x)**3\n",
    "plt.plot(x,y)\n",
    "plt.show()"
   ]
  },
  {
   "cell_type": "code",
   "execution_count": 18,
   "id": "859fe259",
   "metadata": {},
   "outputs": [
    {
     "data": {
      "text/plain": [
       "array([4. , 4.1, 4.2, 4.3, 4.4, 4.5, 4.6, 4.7, 4.8, 4.9])"
      ]
     },
     "execution_count": 18,
     "metadata": {},
     "output_type": "execute_result"
    }
   ],
   "source": [
    "np.arange(4,5,0.1)"
   ]
  },
  {
   "cell_type": "code",
   "execution_count": 19,
   "id": "b7f3d175",
   "metadata": {},
   "outputs": [
    {
     "ename": "TypeError",
     "evalue": "'float' object cannot be interpreted as an integer",
     "output_type": "error",
     "traceback": [
      "\u001b[1;31m---------------------------------------------------------------------------\u001b[0m",
      "\u001b[1;31mTypeError\u001b[0m                                 Traceback (most recent call last)",
      "\u001b[1;32m<ipython-input-19-6c2bd24b9825>\u001b[0m in \u001b[0;36m<module>\u001b[1;34m\u001b[0m\n\u001b[1;32m----> 1\u001b[1;33m \u001b[0mnp\u001b[0m\u001b[1;33m.\u001b[0m\u001b[0mlinspace\u001b[0m\u001b[1;33m(\u001b[0m\u001b[1;36m4\u001b[0m\u001b[1;33m,\u001b[0m\u001b[1;36m5\u001b[0m\u001b[1;33m,\u001b[0m\u001b[1;36m0.1\u001b[0m\u001b[1;33m)\u001b[0m\u001b[1;33m\u001b[0m\u001b[1;33m\u001b[0m\u001b[0m\n\u001b[0m",
      "\u001b[1;32m<__array_function__ internals>\u001b[0m in \u001b[0;36mlinspace\u001b[1;34m(*args, **kwargs)\u001b[0m\n",
      "\u001b[1;32m~\\anaconda3\\lib\\site-packages\\numpy\\core\\function_base.py\u001b[0m in \u001b[0;36mlinspace\u001b[1;34m(start, stop, num, endpoint, retstep, dtype, axis)\u001b[0m\n\u001b[0;32m    118\u001b[0m \u001b[1;33m\u001b[0m\u001b[0m\n\u001b[0;32m    119\u001b[0m     \"\"\"\n\u001b[1;32m--> 120\u001b[1;33m     \u001b[0mnum\u001b[0m \u001b[1;33m=\u001b[0m \u001b[0moperator\u001b[0m\u001b[1;33m.\u001b[0m\u001b[0mindex\u001b[0m\u001b[1;33m(\u001b[0m\u001b[0mnum\u001b[0m\u001b[1;33m)\u001b[0m\u001b[1;33m\u001b[0m\u001b[1;33m\u001b[0m\u001b[0m\n\u001b[0m\u001b[0;32m    121\u001b[0m     \u001b[1;32mif\u001b[0m \u001b[0mnum\u001b[0m \u001b[1;33m<\u001b[0m \u001b[1;36m0\u001b[0m\u001b[1;33m:\u001b[0m\u001b[1;33m\u001b[0m\u001b[1;33m\u001b[0m\u001b[0m\n\u001b[0;32m    122\u001b[0m         \u001b[1;32mraise\u001b[0m \u001b[0mValueError\u001b[0m\u001b[1;33m(\u001b[0m\u001b[1;34m\"Number of samples, %s, must be non-negative.\"\u001b[0m \u001b[1;33m%\u001b[0m \u001b[0mnum\u001b[0m\u001b[1;33m)\u001b[0m\u001b[1;33m\u001b[0m\u001b[1;33m\u001b[0m\u001b[0m\n",
      "\u001b[1;31mTypeError\u001b[0m: 'float' object cannot be interpreted as an integer"
     ]
    }
   ],
   "source": []
  },
  {
   "cell_type": "code",
   "execution_count": null,
   "id": "2dd652ef",
   "metadata": {},
   "outputs": [],
   "source": []
  }
 ],
 "metadata": {
  "kernelspec": {
   "display_name": "Python 3",
   "language": "python",
   "name": "python3"
  },
  "language_info": {
   "codemirror_mode": {
    "name": "ipython",
    "version": 3
   },
   "file_extension": ".py",
   "mimetype": "text/x-python",
   "name": "python",
   "nbconvert_exporter": "python",
   "pygments_lexer": "ipython3",
   "version": "3.8.8"
  }
 },
 "nbformat": 4,
 "nbformat_minor": 5
}
