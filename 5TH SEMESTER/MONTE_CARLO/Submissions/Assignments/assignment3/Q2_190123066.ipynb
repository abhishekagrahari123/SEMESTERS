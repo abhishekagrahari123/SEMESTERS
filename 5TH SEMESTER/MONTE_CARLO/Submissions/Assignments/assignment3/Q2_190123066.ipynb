{
 "cells": [
  {
   "cell_type": "code",
   "execution_count": 12,
   "id": "76ff4251",
   "metadata": {},
   "outputs": [],
   "source": [
    "import numpy as np\n",
    "import matplotlib.pyplot as plt\n",
    "from matplotlib.pyplot import figure\n",
    "from statistics import mean\n",
    "import math\n",
    "import numpy.random as rd"
   ]
  },
  {
   "cell_type": "code",
   "execution_count": 13,
   "id": "7684b6fd",
   "metadata": {},
   "outputs": [],
   "source": [
    "# this function generates given no of random numbers from [0,1]\n",
    "# Xo is the seed\n",
    "# full period if m is a power of 2, c is odd and a is 4*n + 1\n",
    "def Uniform_Distribution(Xo, m, a, c,N):\n",
    "    arr1 = []\n",
    "    arr = []\n",
    "    arr1.append(Xo%m)\n",
    "    for i in range(1, N):\n",
    "        arr1.append((arr1[i - 1] * a + c) % m)\n",
    "    for i in range(0,N):\n",
    "        arr.append(arr1[i]/m)\n",
    "    return arr"
   ]
  },
  {
   "cell_type": "code",
   "execution_count": 14,
   "id": "3e5d4566",
   "metadata": {},
   "outputs": [],
   "source": [
    "# it is the inverse of CDF of g\n",
    "def G_inverse(u, α):\n",
    "    return np.power(u, 1/α)\n",
    "\n",
    "# dominating PDF\n",
    "def g(x, α):\n",
    "    return α*(x**(α-1))\n",
    "\n",
    "# target PDF\n",
    "def f(x, α, γ):\n",
    "    return ((x**(α-1))*(math.exp(1)**(-x)))/γ\n",
    "\n",
    "def acc_rej(N, α, c, γ):\n",
    "    \n",
    "    # generating number with density g(x)\n",
    "    num = 10*N\n",
    "    U1 = Uniform_Distribution(31, 2**60, 101, 3,num)\n",
    "    X = []\n",
    "    for i in range(num):\n",
    "        X.append(G_inverse(U1[i], α))    \n",
    "    \n",
    "# generated for accepting value with a give probability     \n",
    "    U2 = Uniform_Distribution(19, 2**50, 65, 9,num)\n",
    "    j = 0\n",
    "    out = np.zeros(N)\n",
    "    for i in range(N):\n",
    "        while True:\n",
    "            x = X[j]\n",
    "            u2 = U2[j]\n",
    "            j = j + 1\n",
    "# accepting the generated value with prob f(x)/c*g(x)\n",
    "            if c*g(x, α)*u2 <= f(x,α,γ):\n",
    "                out[i] = x\n",
    "                break\n",
    "    return out"
   ]
  },
  {
   "cell_type": "code",
   "execution_count": 20,
   "id": "e020f629",
   "metadata": {},
   "outputs": [
    {
     "data": {
      "image/png": "[encoded data removed]",
      "text/plain": [
       "<Figure size 720x576 with 1 Axes>"
      ]
     },
     "metadata": {
      "needs_background": "light"
     },
     "output_type": "display_data"
    }
   ],
   "source": [
    "α = 0.7\n",
    "γ = 0.988064\n",
    "X = acc_rej(10**4, α, 1/(α*γ), γ)\n",
    "\n",
    "# making histogram of f(x) showing density on y-axis\n",
    "plt.figure(figsize=(10, 8))\n",
    "plt.hist(X, bins = 100, density = True)\n",
    "plt.show()"
   ]
  },
  {
   "cell_type": "code",
   "execution_count": 21,
   "id": "9567cdc5",
   "metadata": {},
   "outputs": [
    {
     "data": {
      "text/plain": [
       "24.0"
      ]
     },
     "execution_count": 21,
     "metadata": {},
     "output_type": "execute_result"
    }
   ],
   "source": [
    "math.gamma(5)"
   ]
  },
  {
   "cell_type": "code",
   "execution_count": null,
   "id": "a64cdcf8",
   "metadata": {},
   "outputs": [],
   "source": []
  }
 ],
 "metadata": {
  "kernelspec": {
   "display_name": "Python 3",
   "language": "python",
   "name": "python3"
  },
  "language_info": {
   "codemirror_mode": {
    "name": "ipython",
    "version": 3
   },
   "file_extension": ".py",
   "mimetype": "text/x-python",
   "name": "python",
   "nbconvert_exporter": "python",
   "pygments_lexer": "ipython3",
   "version": "3.8.8"
  }
 },
 "nbformat": 4,
 "nbformat_minor": 5
}
