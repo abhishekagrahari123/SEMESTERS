{
 "cells": [
  {
   "cell_type": "code",
   "execution_count": 3,
   "id": "dc99b212",
   "metadata": {
    "scrolled": true
   },
   "outputs": [
    {
     "data": {
      "image/png": "[encoded data removed]",
      "text/plain": [
       "<Figure size 432x288 with 1 Axes>"
      ]
     },
     "metadata": {
      "needs_background": "light"
     },
     "output_type": "display_data"
    }
   ],
   "source": [
    "from matplotlib import pyplot as plt\n",
    "import numpy as np\n",
    "import math\n",
    "\n",
    "def linearCongruentialMethod(Xo, m, a, b,arr,noOfRandomNums):\n",
    "    arr1 = []\n",
    "    arr1.append(Xo%m)\n",
    "    for i in range(1, noOfRandomNums):\n",
    "        arr1.append((arr1[i - 1] * a + b) % m)\n",
    "    for i in range(0,noOfRandomNums):\n",
    "        arr.append(arr1[i]/m)\n",
    "\n",
    "N = 100000\n",
    "arr = []\n",
    "linearCongruentialMethod(5,pow(2,30),5, 3, arr, N)\n",
    "\n",
    "frequency = [0]*5000\n",
    "x = []\n",
    "for i in range(0, 5000):\n",
    "    x.append(2*i+1)\n",
    "    \n",
    "for i in range(100000):\n",
    "    k = math.ceil(5000*arr[i])\n",
    "    frequency[k-1] = frequency[k-1]+1\n",
    "plt.figure()\n",
    "plt.bar(x, frequency)\n",
    "plt.show()"
   ]
  },
  {
   "cell_type": "code",
   "execution_count": null,
   "id": "68b2fca4",
   "metadata": {},
   "outputs": [],
   "source": []
  }
 ],
 "metadata": {
  "kernelspec": {
   "display_name": "Python 3",
   "language": "python",
   "name": "python3"
  },
  "language_info": {
   "codemirror_mode": {
    "name": "ipython",
    "version": 3
   },
   "file_extension": ".py",
   "mimetype": "text/x-python",
   "name": "python",
   "nbconvert_exporter": "python",
   "pygments_lexer": "ipython3",
   "version": "3.8.8"
  }
 },
 "nbformat": 4,
 "nbformat_minor": 5
}
