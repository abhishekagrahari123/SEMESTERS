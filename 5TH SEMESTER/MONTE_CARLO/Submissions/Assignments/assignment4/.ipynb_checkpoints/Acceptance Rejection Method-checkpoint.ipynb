{
 "cells": [
  {
   "cell_type": "code",
   "execution_count": 1,
   "id": "41fbe6ac",
   "metadata": {},
   "outputs": [],
   "source": [
    "import numpy as np\n",
    "import matplotlib.pyplot as plt"
   ]
  },
  {
   "cell_type": "code",
   "execution_count": 2,
   "id": "9452d08d",
   "metadata": {},
   "outputs": [],
   "source": [
    "def f(x):\n",
    "    return x*np.exp(-x)"
   ]
  },
  {
   "cell_type": "code",
   "execution_count": 3,
   "id": "849a5712",
   "metadata": {},
   "outputs": [],
   "source": [
    "def g(x):\n",
    "    return 0.5*np.exp(-x*0.5)"
   ]
  },
  {
   "cell_type": "code",
   "execution_count": 13,
   "id": "7bdf698b",
   "metadata": {},
   "outputs": [],
   "source": [
    "def AR(N):\n",
    "    X = np.array([])\n",
    "    for i in range(N):\n",
    "        while True:\n",
    "            Y = np.random.exponential(1/0.5, 1)\n",
    "            U = np.random.uniform(0,1,1)\n",
    "            \n",
    "            if U <= f(Y)/(1.5*g(Y)):\n",
    "                X = np.append(X,Y)\n",
    "                break\n",
    "    return X"
   ]
  },
  {
   "cell_type": "code",
   "execution_count": 16,
   "id": "0b6ca8f6",
   "metadata": {},
   "outputs": [
    {
     "data": {
      "image/png": "[encoded data removed]",
      "text/plain": [
       "<Figure size 432x288 with 1 Axes>"
      ]
     },
     "metadata": {
      "needs_background": "light"
     },
     "output_type": "display_data"
    }
   ],
   "source": [
    "plt.figure()\n",
    "X = AR(10**4)\n",
    "plt.hist(X,bins = 50, density = True)\n",
    "xx = np.linspace(0,10,200)\n",
    "plt.plot(xx,f(xx))\n",
    "plt.show()"
   ]
  }
 ],
 "metadata": {
  "kernelspec": {
   "display_name": "Python 3",
   "language": "python",
   "name": "python3"
  },
  "language_info": {
   "codemirror_mode": {
    "name": "ipython",
    "version": 3
   },
   "file_extension": ".py",
   "mimetype": "text/x-python",
   "name": "python",
   "nbconvert_exporter": "python",
   "pygments_lexer": "ipython3",
   "version": "3.8.8"
  }
 },
 "nbformat": 4,
 "nbformat_minor": 5
}
