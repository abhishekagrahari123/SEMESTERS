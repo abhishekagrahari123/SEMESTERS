{
 "cells": [
  {
   "cell_type": "code",
   "execution_count": 1,
   "id": "68f79fb4",
   "metadata": {},
   "outputs": [],
   "source": [
    "import numpy as np\n",
    "import numpy.random as rd\n",
    "from scipy import stats\n",
    "import matplotlib.pyplot as plt"
   ]
  },
  {
   "cell_type": "code",
   "execution_count": 2,
   "id": "2d8d7435",
   "metadata": {},
   "outputs": [],
   "source": [
    "U1 = rd.uniform(-1,1)\n",
    "U2 = rd.uniform(-1,1)\n",
    "R_sq = U1*U1 + U2*U2\n"
   ]
  },
  {
   "cell_type": "code",
   "execution_count": 3,
   "id": "1eceeb4e",
   "metadata": {},
   "outputs": [],
   "source": [
    "def f(U1, R_sq):\n",
    "    return U1*np.sqrt(-2*np.log(R_sq)/R_sq)"
   ]
  },
  {
   "cell_type": "code",
   "execution_count": 7,
   "id": "1b414b28",
   "metadata": {},
   "outputs": [],
   "source": [
    "def sim(N):\n",
    "    out = np.zeros(N)\n",
    "    for i in range(N):\n",
    "        R_sq = 2\n",
    "        while R_sq > 1:\n",
    "            U1 = rd.uniform(-1,1)\n",
    "            U2 = rd.uniform(-1,1)\n",
    "            R_sq = U1*U1 + U2*U2\n",
    "        X = f(U1, R_sq)\n",
    "        out[i] = X\n",
    "    return out"
   ]
  },
  {
   "cell_type": "code",
   "execution_count": 9,
   "id": "d63694e6",
   "metadata": {},
   "outputs": [
    {
     "data": {
      "text/plain": [
       "[<matplotlib.lines.Line2D at 0x295efe68f70>]"
      ]
     },
     "execution_count": 9,
     "metadata": {},
     "output_type": "execute_result"
    },
    {
     "data": {
      "image/png": "[encoded data removed]",
      "text/plain": [
       "<Figure size 432x288 with 1 Axes>"
      ]
     },
     "metadata": {
      "needs_background": "light"
     },
     "output_type": "display_data"
    }
   ],
   "source": [
    "X = sim(10**4)\n",
    "plt.figure()\n",
    "plt.hist(X, bins = 50, density = True)\n",
    "xx = np.linspace(-3,3,100)\n",
    "plt.plot(xx,stats.norm.pdf(xx))"
   ]
  },
  {
   "cell_type": "code",
   "execution_count": null,
   "id": "df84266a",
   "metadata": {},
   "outputs": [],
   "source": []
  }
 ],
 "metadata": {
  "kernelspec": {
   "display_name": "Python 3",
   "language": "python",
   "name": "python3"
  },
  "language_info": {
   "codemirror_mode": {
    "name": "ipython",
    "version": 3
   },
   "file_extension": ".py",
   "mimetype": "text/x-python",
   "name": "python",
   "nbconvert_exporter": "python",
   "pygments_lexer": "ipython3",
   "version": "3.8.8"
  }
 },
 "nbformat": 4,
 "nbformat_minor": 5
}
