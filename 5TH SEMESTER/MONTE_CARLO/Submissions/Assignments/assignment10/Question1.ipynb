{
 "cells": [
  {
   "cell_type": "code",
   "execution_count": 1,
   "id": "360af019",
   "metadata": {},
   "outputs": [],
   "source": [
    "# importing required libraries.\n",
    "import math\n",
    "import numpy as np\n",
    "import matplotlib.pyplot as plt"
   ]
  },
  {
   "cell_type": "code",
   "execution_count": 2,
   "id": "b6bbe75c",
   "metadata": {},
   "outputs": [],
   "source": [
    "# radical inverse function \n",
    "def ϕ(base,i):\n",
    "    res = 0\n",
    "    k = 0\n",
    "    while i > 0:\n",
    "        d = i % base\n",
    "        i = i // base\n",
    "        res += d*(base**(-k-1))\n",
    "        k += 1\n",
    "    return res"
   ]
  },
  {
   "cell_type": "code",
   "execution_count": 3,
   "id": "8d78cf5b",
   "metadata": {
    "scrolled": true
   },
   "outputs": [
    {
     "name": "stdout",
     "output_type": "stream",
     "text": [
      "[0.5, 0.25, 0.75, 0.125, 0.625, 0.375, 0.875, 0.0625, 0.5625, 0.3125, 0.8125, 0.1875, 0.6875, 0.4375, 0.9375, 0.03125, 0.53125, 0.28125, 0.78125, 0.15625, 0.65625, 0.40625, 0.90625, 0.09375, 0.59375]\n"
     ]
    }
   ],
   "source": [
    "# question 1 \n",
    "# generated first 25 values of the Var der Corput sequence using radical inverse method with base 2\n",
    "X = []\n",
    "for i in range(1,26):\n",
    "    X.append(ϕ(2,i))\n",
    "print(X)"
   ]
  },
  {
   "cell_type": "code",
   "execution_count": 4,
   "id": "9a11d5b2",
   "metadata": {},
   "outputs": [
    {
     "data": {
      "image/png": "[encoded data removed]",
      "text/plain": [
       "<Figure size 432x288 with 1 Axes>"
      ]
     },
     "metadata": {
      "needs_background": "light"
     },
     "output_type": "display_data"
    }
   ],
   "source": [
    "# question 1 \n",
    "# Making plot of overlapping pairs (Xi, Xi+1) for first 1000 numbers from Van der Corput sequence.\n",
    "X = []\n",
    "for i in range(1,1001):\n",
    "    X.append(ϕ(2,i))\n",
    "plt.scatter(X[:-1],X[1:])\n",
    "plt.title(\"(Xi,Xi+1) for Van der Corput sequence\")\n",
    "plt.xlabel(\"Xi\")\n",
    "plt.ylabel(\"Xi+1\")\n",
    "plt.show()"
   ]
  }
 ],
 "metadata": {
  "interpreter": {
   "hash": "6d81e14efdf2b2b069cdefaacdf16081bee34d8d5c94b3d415e6c3ad4f5f9598"
  },
  "kernelspec": {
   "display_name": "Python 3.8.8 64-bit ('base': conda)",
   "name": "python3"
  },
  "language_info": {
   "codemirror_mode": {
    "name": "ipython",
    "version": 3
   },
   "file_extension": ".py",
   "mimetype": "text/x-python",
   "name": "python",
   "nbconvert_exporter": "python",
   "pygments_lexer": "ipython3",
   "version": "3.8.8"
  }
 },
 "nbformat": 4,
 "nbformat_minor": 5
}
