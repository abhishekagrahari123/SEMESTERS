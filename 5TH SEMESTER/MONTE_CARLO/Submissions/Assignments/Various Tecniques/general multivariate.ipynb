{
 "cells": [
  {
   "cell_type": "code",
   "execution_count": 54,
   "id": "a27750ec",
   "metadata": {},
   "outputs": [],
   "source": [
    "import math\n",
    "import numpy as np\n",
    "import numpy.random as rd\n",
    "from scipy import stats\n",
    "from scipy.stats import norm\n",
    "import matplotlib.pyplot as plt\n",
    "from statistics import mean\n",
    "from statistics import variance\n",
    "from scipy.stats import gaussian_kde\n",
    "import statistics\n",
    "import seaborn as sns\n",
    "import time"
   ]
  },
  {
   "cell_type": "code",
   "execution_count": 55,
   "id": "78cc7386",
   "metadata": {},
   "outputs": [],
   "source": [
    "# this function generates given no of random numbers from [0,1]\n",
    "# Xo is the seed\n",
    "# full period if m is a power of 2, c is odd and a is 4*n + 1\n",
    "def Uniform_Distribution(Xo, m, a, c,N):\n",
    "    arr1 = []\n",
    "    arr = []\n",
    "    arr1.append(Xo%m)\n",
    "    for i in range(1, N):\n",
    "        arr1.append((arr1[i - 1] * a + c) % m)\n",
    "    for i in range(0,N):\n",
    "        arr.append(arr1[i]/m)\n",
    "    return arr"
   ]
  },
  {
   "cell_type": "code",
   "execution_count": 56,
   "id": "eefe13d5",
   "metadata": {},
   "outputs": [],
   "source": [
    "# it gives N random numbers from F(x) = 1-expo(-x/theta) distribution\n",
    "def Exponential_Distribution(N,θ):\n",
    "#     generating form uniform [0,1]\n",
    "    U = Uniform_Distribution(34,2**60,17,21,N)\n",
    "    expo = []\n",
    "    for i in range(0,N):\n",
    "#     applying inverse of CDF on unifom [0,1]\n",
    "        num = -θ*math.log(U[i])\n",
    "        expo.append(num)\n",
    "    return expo"
   ]
  },
  {
   "cell_type": "code",
   "execution_count": 57,
   "id": "a19d386e",
   "metadata": {},
   "outputs": [],
   "source": [
    "def Box_Muller(N):\n",
    "# generating random theta between 0 to 2*pi\n",
    "    U = Uniform_Distribution(1, 2**50, 5, 7, N)\n",
    "    random_theta = []\n",
    "    for i in range(0,N):\n",
    "        random_theta.append(U[i]*2*np.pi)\n",
    "\n",
    "# generating exponential of mean 1\n",
    "    expo = Exponential_Distribution(N, 1)\n",
    "\n",
    "# generating N(0,1) \n",
    "    out1 = np.zeros(N)\n",
    "    out2 = np.zeros(N)\n",
    "    for i in range(N):\n",
    "        theta = random_theta[i]\n",
    "        E = expo[i]\n",
    "        x = np.sin(theta)*np.sqrt(2*E)\n",
    "        y = np.cos(theta)*np.sqrt(2*E)\n",
    "        out1[i] = x\n",
    "        out2[i] = y\n",
    "    return out1,out2"
   ]
  },
  {
   "cell_type": "code",
   "execution_count": 58,
   "id": "d8b7518d",
   "metadata": {},
   "outputs": [
    {
     "name": "stdout",
     "output_type": "stream",
     "text": [
      "[[1 0]\n",
      " [0 2]]\n"
     ]
    },
    {
     "data": {
      "image/png": "[encoded data removed]",
      "text/plain": [
       "<Figure size 432x288 with 2 Axes>"
      ]
     },
     "metadata": {
      "needs_background": "light"
     },
     "output_type": "display_data"
    }
   ],
   "source": [
    "d = 2\n",
    "a = 0\n",
    "µ = np.array([5, 8])\n",
    "N = 10000\n",
    "Z1=[]\n",
    "Z2=[]\n",
    "\n",
    "Z1, Z2 = Box_Muller(N)\n",
    "Σ = np.array([[1, 2*a], [2*a, 4]])\n",
    "A = np.array([[0]*d]*d) # in general A=[[0]*cols]*rows\n",
    "Z = np.array([Z1, Z2])\n",
    "\n",
    "# filling matrix A such that AA'= Σ\n",
    "for i in range(0,d):\n",
    "    for j in range(0,d):\n",
    "        if j<i:\n",
    "            s = 0\n",
    "            for k in range(0,j):\n",
    "                s = s + A[i][k]*A[j][k]\n",
    "            A[i][j] = (Σ[i][j] - s)/A[j][j]\n",
    "        elif j==i:\n",
    "            s = 0\n",
    "            for k in range(0,i):\n",
    "                s = s + A[i][k]*A[i][k]\n",
    "            A[i][i] = np.sqrt(Σ[i][i] - s)\n",
    "        else:\n",
    "            A[i][j] = 0\n",
    "\n",
    "print(A)\n",
    "X = np.dot(A, Z)\n",
    "for i in range(0,d):\n",
    "    for j in range(0,N):\n",
    "        X[i][j] = X[i][j] + µ[i]\n",
    "\n",
    "plt.figure()\n",
    "plt.hist2d(X[0], X[1], 50)\n",
    "plt.colorbar()\n",
    "plt.show()"
   ]
  },
  {
   "cell_type": "code",
   "execution_count": null,
   "id": "ccfbe8b0",
   "metadata": {},
   "outputs": [],
   "source": []
  }
 ],
 "metadata": {
  "kernelspec": {
   "display_name": "Python 3",
   "language": "python",
   "name": "python3"
  },
  "language_info": {
   "codemirror_mode": {
    "name": "ipython",
    "version": 3
   },
   "file_extension": ".py",
   "mimetype": "text/x-python",
   "name": "python",
   "nbconvert_exporter": "python",
   "pygments_lexer": "ipython3",
   "version": "3.8.8"
  }
 },
 "nbformat": 4,
 "nbformat_minor": 5
}
