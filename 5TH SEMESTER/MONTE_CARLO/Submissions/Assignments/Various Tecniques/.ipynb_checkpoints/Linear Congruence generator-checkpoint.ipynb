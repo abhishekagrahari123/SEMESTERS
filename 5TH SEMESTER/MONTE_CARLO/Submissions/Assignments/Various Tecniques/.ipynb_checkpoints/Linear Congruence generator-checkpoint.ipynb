{
 "cells": [
  {
   "cell_type": "code",
   "execution_count": 1,
   "id": "a7a476d5",
   "metadata": {},
   "outputs": [],
   "source": [
    "def linearCongruentialMethod(Xo, m, a, b,randomNums,noOfRandomNums):\n",
    "    arr1 = []\n",
    "    arr = []\n",
    "    arr1.append(Xo%m)\n",
    "    for i in range(1, noOfRandomNums):\n",
    "        arr1.append((arr1[i - 1] * a + b) % m)\n",
    "    for i in range(0,noOfRandomNums):\n",
    "        arr.append(arr1[i]/m)\n",
    "    return arr"
   ]
  },
  {
   "cell_type": "code",
   "execution_count": null,
   "id": "218e9775",
   "metadata": {},
   "outputs": [],
   "source": []
  }
 ],
 "metadata": {
  "kernelspec": {
   "display_name": "Python 3",
   "language": "python",
   "name": "python3"
  },
  "language_info": {
   "codemirror_mode": {
    "name": "ipython",
    "version": 3
   },
   "file_extension": ".py",
   "mimetype": "text/x-python",
   "name": "python",
   "nbconvert_exporter": "python",
   "pygments_lexer": "ipython3",
   "version": "3.8.8"
  }
 },
 "nbformat": 4,
 "nbformat_minor": 5
}
