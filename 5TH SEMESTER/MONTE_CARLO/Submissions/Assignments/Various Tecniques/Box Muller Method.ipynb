{
 "cells": [
  {
   "cell_type": "code",
   "execution_count": 1,
   "id": "ed60dfe2",
   "metadata": {},
   "outputs": [],
   "source": [
    "import numpy as np\n",
    "import numpy.random as rd\n",
    "from scipy import stats\n",
    "import matplotlib.pyplot as plt"
   ]
  },
  {
   "cell_type": "code",
   "execution_count": 2,
   "id": "b675d070",
   "metadata": {},
   "outputs": [],
   "source": [
    "def f(theta, E):\n",
    "    return np.sin(theta)*np.sqrt(2*E)"
   ]
  },
  {
   "cell_type": "code",
   "execution_count": 3,
   "id": "9aebf013",
   "metadata": {},
   "outputs": [
    {
     "data": {
      "text/plain": [
       "[<matplotlib.lines.Line2D at 0x22578260790>]"
      ]
     },
     "execution_count": 3,
     "metadata": {},
     "output_type": "execute_result"
    },
    {
     "data": {
      "image/png": "[encoded data removed]",
      "text/plain": [
       "<Figure size 432x288 with 1 Axes>"
      ]
     },
     "metadata": {
      "needs_background": "light"
     },
     "output_type": "display_data"
    }
   ],
   "source": [
    "def BoxMuller(N):\n",
    "    out = np.zeros(N)\n",
    "    for i in range(N):\n",
    "        theta = rd.uniform(low = 0, high = 2*np.pi, size = 1)\n",
    "        E = rd.exponential(scale = 1/1, size = 1)\n",
    "        X = f(theta, E)\n",
    "        out[i] = X\n",
    "    return out\n",
    "\n",
    "plt.figure()\n",
    "t = BoxMuller(10**4)\n",
    "plt.hist(t, bins = 50, density = True)\n",
    "xx = np.linspace(-3, 3, 100)\n",
    "plt.plot(xx, stats.norm.pdf(xx))"
   ]
  },
  {
   "cell_type": "code",
   "execution_count": null,
   "id": "bbd6db4a",
   "metadata": {},
   "outputs": [],
   "source": []
  }
 ],
 "metadata": {
  "kernelspec": {
   "display_name": "Python 3",
   "language": "python",
   "name": "python3"
  },
  "language_info": {
   "codemirror_mode": {
    "name": "ipython",
    "version": 3
   },
   "file_extension": ".py",
   "mimetype": "text/x-python",
   "name": "python",
   "nbconvert_exporter": "python",
   "pygments_lexer": "ipython3",
   "version": "3.8.8"
  }
 },
 "nbformat": 4,
 "nbformat_minor": 5
}
