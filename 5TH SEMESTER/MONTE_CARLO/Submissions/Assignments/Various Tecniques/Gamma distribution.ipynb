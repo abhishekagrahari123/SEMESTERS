{
 "cells": [
  {
   "cell_type": "code",
   "execution_count": 1,
   "id": "00c326aa",
   "metadata": {},
   "outputs": [],
   "source": [
    "import math\n",
    "import numpy as np\n",
    "import numpy.random as rd\n",
    "from scipy import stats\n",
    "from scipy.stats import norm\n",
    "import matplotlib.pyplot as plt\n",
    "from statistics import mean\n",
    "from statistics import variance\n",
    "from scipy.stats import gaussian_kde\n",
    "import statistics\n",
    "import seaborn as sns\n",
    "import time\n",
    "import random"
   ]
  },
  {
   "cell_type": "code",
   "execution_count": 2,
   "id": "d6867f3d",
   "metadata": {},
   "outputs": [],
   "source": [
    "# this function generates given no of random numbers from [0,1]\n",
    "# Xo is the seed\n",
    "# full period if m is a power of 2, c is odd and a is 4*n + 1\n",
    "def Uniform_Distribution(Xo, m, a, c,N):\n",
    "    arr1 = []\n",
    "    arr = []\n",
    "    arr1.append(Xo%m)\n",
    "    for i in range(1, N):\n",
    "        arr1.append((arr1[i - 1] * a + c) % m)\n",
    "    for i in range(0,N):\n",
    "        arr.append(arr1[i]/m)\n",
    "    return arr"
   ]
  },
  {
   "cell_type": "code",
   "execution_count": 3,
   "id": "2149b2bc",
   "metadata": {},
   "outputs": [],
   "source": [
    "def G_inverse(u, α, A):\n",
    "    if 0 < u and u < 1/(α*A):\n",
    "        return np.power(α*A*u,1/α)\n",
    "    else:\n",
    "        return -np.log(A)-np.log(1-u)\n",
    "\n",
    "def g(x,α,A):\n",
    "    if 0 < x and x < 1:\n",
    "        return np.power(x,α-1)/A\n",
    "    else: \n",
    "        return np.exp(-x)/A\n",
    "\n",
    "def f(x, α):\n",
    "    return (np.power(x,α-1)*np.exp(-x))/math.gamma(α)"
   ]
  },
  {
   "cell_type": "code",
   "execution_count": 4,
   "id": "0dad7223",
   "metadata": {},
   "outputs": [],
   "source": [
    "def Fractional(N,α):\n",
    "    out = np.zeros(N)\n",
    "    if α == 0:\n",
    "        return out\n",
    "    num = 10*N\n",
    "    U1 = Uniform_Distribution(31,2**60, 101, 3, num)\n",
    "    \n",
    "    A = ((1/α) + (1/np.exp(1)))\n",
    "    c = A/math.gamma(α)\n",
    "    \n",
    "    X = []\n",
    "    for i in range(num):\n",
    "        X.append(G_inverse(U1[i], α, A))\n",
    "    \n",
    "    U2 = Uniform_Distribution(19, 2**55, 65, 23, num)\n",
    "    j = 0\n",
    "    for i in range(N):\n",
    "        while True:\n",
    "            x = X[j]\n",
    "            u2 = U2[j]\n",
    "            j = j + 1\n",
    "            if c*g(x,α,A)*u2 <= f(x,α):\n",
    "                out[i] = x\n",
    "                break\n",
    "    return out"
   ]
  },
  {
   "cell_type": "code",
   "execution_count": 5,
   "id": "971ceed9",
   "metadata": {},
   "outputs": [],
   "source": [
    "# it gives N random numbers from F(x) = 1-expo(-x/θ) distribution\n",
    "def Exponential_Distribution(N, θ, Xo, a, m, c):\n",
    "    U = Uniform_Distribution(Xo, a, m, c,N)\n",
    "    expo = []\n",
    "    for i in range(0,N):\n",
    "        num = -θ*math.log(U[i])\n",
    "        expo.append(num)\n",
    "    return expo"
   ]
  },
  {
   "cell_type": "code",
   "execution_count": 12,
   "id": "713a85ac",
   "metadata": {},
   "outputs": [],
   "source": [
    "def Integer(N, α):\n",
    "    j = 0\n",
    "    num = int(10**5)\n",
    "    j = 0\n",
    "    out = np.zeros(N)\n",
    "    for i in range(N):\n",
    "        n = α\n",
    "        y = 0\n",
    "        t = random.randint(500, 50000)\n",
    "        while n > 0:\n",
    "            u = rd.uniform(0,1)\n",
    "            x = -1*np.log(u)\n",
    "            y = y + x\n",
    "            n = n-1\n",
    "        out[i] = y\n",
    "    return out"
   ]
  },
  {
   "cell_type": "code",
   "execution_count": 13,
   "id": "de72c86d",
   "metadata": {},
   "outputs": [],
   "source": [
    "def Gamma(N, α, β):\n",
    "    out = np.zeros(N)\n",
    "    Y = Fractional(N, math.modf(α)[0])\n",
    "    Z = Integer(N, math.modf(α)[1])\n",
    "    for i in range(N):\n",
    "        out[i] = (Y[i] + Z[i])/β\n",
    "    return out"
   ]
  },
  {
   "cell_type": "code",
   "execution_count": 18,
   "id": "32a58ba6",
   "metadata": {},
   "outputs": [],
   "source": [
    "out = Gamma(100000, 5.5,1)"
   ]
  },
  {
   "cell_type": "code",
   "execution_count": 15,
   "id": "cfce0f09",
   "metadata": {
    "scrolled": false
   },
   "outputs": [
    {
     "data": {
      "image/png": "[encoded data removed]",
      "text/plain": [
       "<Figure size 432x288 with 1 Axes>"
      ]
     },
     "metadata": {
      "needs_background": "light"
     },
     "output_type": "display_data"
    }
   ],
   "source": [
    "plt.hist(out, bins = 100, density = True)\n",
    "plt.show()"
   ]
  },
  {
   "cell_type": "code",
   "execution_count": 16,
   "id": "e7a86e0c",
   "metadata": {
    "scrolled": false
   },
   "outputs": [
    {
     "data": {
      "text/plain": [
       "2.1930083049717357"
      ]
     },
     "execution_count": 16,
     "metadata": {},
     "output_type": "execute_result"
    }
   ],
   "source": [
    "np.mean(out)"
   ]
  },
  {
   "cell_type": "code",
   "execution_count": 17,
   "id": "74082a9c",
   "metadata": {},
   "outputs": [
    {
     "data": {
      "text/plain": [
       "0.8780202674844595"
      ]
     },
     "execution_count": 17,
     "metadata": {},
     "output_type": "execute_result"
    }
   ],
   "source": [
    "statistics.variance(out)"
   ]
  },
  {
   "cell_type": "code",
   "execution_count": null,
   "id": "f14fc1e7",
   "metadata": {},
   "outputs": [],
   "source": []
  }
 ],
 "metadata": {
  "kernelspec": {
   "display_name": "Python 3",
   "language": "python",
   "name": "python3"
  },
  "language_info": {
   "codemirror_mode": {
    "name": "ipython",
    "version": 3
   },
   "file_extension": ".py",
   "mimetype": "text/x-python",
   "name": "python",
   "nbconvert_exporter": "python",
   "pygments_lexer": "ipython3",
   "version": "3.8.8"
  }
 },
 "nbformat": 4,
 "nbformat_minor": 5
}
