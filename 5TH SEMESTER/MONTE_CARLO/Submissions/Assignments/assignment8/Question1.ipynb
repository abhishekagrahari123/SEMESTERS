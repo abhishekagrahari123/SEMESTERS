{
 "cells": [
  {
   "cell_type": "code",
   "execution_count": 1,
   "id": "27012a73",
   "metadata": {},
   "outputs": [],
   "source": [
    "import math\n",
    "import numpy as np\n",
    "import statistics\n",
    "import matplotlib.pyplot as plt"
   ]
  },
  {
   "cell_type": "code",
   "execution_count": 6,
   "id": "13c93820",
   "metadata": {},
   "outputs": [],
   "source": [
    "# this function generates given no of random numbers from [0,1]\n",
    "# Xo is the seed\n",
    "# full period if m is a power of 2, c is odd and a is 4*n + 1\n",
    "(a, c, m, x) = (2053, 1345, pow(2, 40), 3245)\n",
    "(k, λ, σ) = (0.8, 2.9, 3)\n",
    "\n",
    "def Uniform_Distribution():\n",
    "    global x\n",
    "    x = (a * x + c) % m \n",
    "    return x/m\n",
    "\n",
    "def Weibull_Distribution():\n",
    "    U = Uniform_Distribution()\n",
    "    return np.power(-np.log(U),1/k)*σ"
   ]
  },
  {
   "cell_type": "code",
   "execution_count": 7,
   "id": "c307b73f",
   "metadata": {},
   "outputs": [],
   "source": [
    "def f(S):\n",
    "    Y=0\n",
    "    for j in range(S): \n",
    "        Y += Weibull_Distribution() \n",
    "    if Y < 5:\n",
    "        return 1\n",
    "    else:\n",
    "        return 0\n",
    "\n",
    "def strata_stat(S, nj):\n",
    "    Yij_store = []\n",
    "    for i in range(nj):\n",
    "        Yij = f(S)\n",
    "        Yij_store.append(Yij)\n",
    "    μj_hat = np.mean(Yij_store)\n",
    "    sj = np.sqrt(statistics.variance(Yij_store))\n",
    "    return μj_hat, sj\n",
    "\n",
    "\n",
    "def poisson_PDF(S):\n",
    "    return (math.exp(-λ)*(λ**(S)))/math.factorial(S) \n",
    "\n",
    "def strata_calc(S, nj):\n",
    "    if S < 6:\n",
    "        μj_hat, sj = strata_stat(S, nj)\n",
    "    else:\n",
    "        num = 1\n",
    "        for i in range(5):\n",
    "            num = num - poisson_PDF(i)\n",
    "        mean_no_of_storms = math.floor(num/λ)\n",
    "\n",
    "        μj_hat, sj = strata_stat(mean_no_of_storms, nj)\n",
    "    return μj_hat, sj\n",
    "\n",
    "def strata_prob_calc(S):\n",
    "    if S <= 5:\n",
    "        return poisson_PDF(S)\n",
    "    else:\n",
    "        prob = 1\n",
    "        for i in range(6):\n",
    "            prob = prob - poisson_PDF(i)\n",
    "        return prob"
   ]
  },
  {
   "cell_type": "code",
   "execution_count": 8,
   "id": "31618463",
   "metadata": {},
   "outputs": [
    {
     "name": "stdout",
     "output_type": "stream",
     "text": [
      "99% confidence interval for N=100 is :(0.349941893450217, 0.5671474456051656)\n",
      "99% confidence interval for N=10000 is :(0.44043247167212546, 0.460387596994791)\n"
     ]
    }
   ],
   "source": [
    "\n",
    "for n in [100, 10000]:\n",
    "    Var = 0\n",
    "    μ_strat = 0\n",
    "    others = 0\n",
    "    for S in range(7):\n",
    "        wj = strata_prob_calc(S)\n",
    "        nj = int(n*wj)\n",
    "        μj_hat, sj = strata_calc(S, nj)\n",
    "        μ_strat += (wj)*μj_hat\n",
    "        Var+=(np.power(wj, 2)*sj*sj)/nj\n",
    "    print(f\"99% confidence interval for N={n} is :({μ_strat-2.58*np.sqrt(Var)}, {μ_strat+2.58*np.sqrt(Var)})\")"
   ]
  },
  {
   "cell_type": "code",
   "execution_count": null,
   "id": "30b88d94",
   "metadata": {},
   "outputs": [],
   "source": []
  }
 ],
 "metadata": {
  "kernelspec": {
   "display_name": "Python 3",
   "language": "python",
   "name": "python3"
  },
  "language_info": {
   "codemirror_mode": {
    "name": "ipython",
    "version": 3
   },
   "file_extension": ".py",
   "mimetype": "text/x-python",
   "name": "python",
   "nbconvert_exporter": "python",
   "pygments_lexer": "ipython3",
   "version": "3.8.8"
  }
 },
 "nbformat": 4,
 "nbformat_minor": 5
}
