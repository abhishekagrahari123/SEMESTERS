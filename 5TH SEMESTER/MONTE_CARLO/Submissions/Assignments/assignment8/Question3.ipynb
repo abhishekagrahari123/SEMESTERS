{
 "cells": [
  {
   "cell_type": "code",
   "execution_count": 1,
   "id": "1495d00f",
   "metadata": {},
   "outputs": [],
   "source": [
    "import numpy as np\n",
    "import numpy.random as rd\n",
    "from scipy import stats\n",
    "import matplotlib.pyplot as plt\n",
    "import math \n",
    "import numpy as np\n",
    "import statistics\n",
    "import matplotlib.pyplot as plt\n",
    "import random"
   ]
  },
  {
   "cell_type": "code",
   "execution_count": 2,
   "id": "46b76cfb",
   "metadata": {},
   "outputs": [],
   "source": [
    "# this function generates given no of random numbers from [0,1]\n",
    "# Xo is the seed\n",
    "# full period if m is a power of 2, c is odd and a is 4*n + 1\n",
    "(a, c, m, x) = (2053, 1345, pow(2, 40), 3245)\n",
    "\n",
    "def Uniform_Distribution():\n",
    "    global x\n",
    "    x = (a * x + c) % m \n",
    "    return x/m"
   ]
  },
  {
   "cell_type": "code",
   "execution_count": 3,
   "id": "39966286",
   "metadata": {},
   "outputs": [],
   "source": [
    "def log_normal(μ, var):\n",
    "    σ = np.sqrt(var)\n",
    "    \n",
    "# generating random theta between 0 to 2*pi\n",
    "    U = Uniform_Distribution()\n",
    "    theta = U*2*np.pi\n",
    "\n",
    "# generating exponential of mean 1\n",
    "    U = Uniform_Distribution()\n",
    "    E = -np.log(U)\n",
    "\n",
    "# generating N(0,1) \n",
    "    X = np.sin(theta)*np.sqrt(2*E)\n",
    "    X = math.exp(μ + σ * X)\n",
    "    return X"
   ]
  },
  {
   "cell_type": "code",
   "execution_count": 4,
   "id": "04ca1555",
   "metadata": {},
   "outputs": [],
   "source": [
    "N = 10000\n",
    "X = []\n",
    "μ = [2,1,-2.5, 1.5, 3]\n",
    "var = [0.7, 0.9, 0.5, 1, 1.1]\n",
    "    \n",
    "F = []\n",
    "H = []\n",
    "for i in range(N):\n",
    "    s = 0\n",
    "    p = 1\n",
    "    for j in range(5):\n",
    "        s = s + log_normal(μ[j], var[j])\n",
    "        p = p * log_normal(μ[j], var[j])\n",
    "        \n",
    "    F.append(max(0,s/5))\n",
    "    H.append(max(0,p/5))"
   ]
  },
  {
   "cell_type": "code",
   "execution_count": 5,
   "id": "1ede1104",
   "metadata": {},
   "outputs": [],
   "source": [
    "s1 = 0\n",
    "s2 = 0\n",
    "s3 = 0\n",
    "s4 = 0\n",
    "\n",
    "for i in range(N):\n",
    "    s3 = s3 + F[i]\n",
    "    s4 = s4 + H[i]\n",
    "\n",
    "μ_hat = s3/N\n",
    "θ_hat = s4/N\n",
    "\n",
    "for i in range(N):\n",
    "    s1 = s1 + (F[i]-μ_hat)*(H[i]-θ_hat)\n",
    "    s2 = s2 + (H[i]-θ_hat)**2\n",
    "\n",
    "β = s1/s2"
   ]
  },
  {
   "cell_type": "code",
   "execution_count": 6,
   "id": "ca0f8147",
   "metadata": {
    "scrolled": true
   },
   "outputs": [
    {
     "name": "stdout",
     "output_type": "stream",
     "text": [
      "4.610377631051367e-05\n"
     ]
    }
   ],
   "source": [
    "print(β)"
   ]
  },
  {
   "cell_type": "code",
   "execution_count": 8,
   "id": "82a928e2",
   "metadata": {},
   "outputs": [
    {
     "name": "stdout",
     "output_type": "stream",
     "text": [
      "233.2582085841628\n",
      "θ = 1211.9670744925763\n",
      "E[f(X)] is equal to 11.439052210927931\n"
     ]
    }
   ],
   "source": [
    "μ_total = 0\n",
    "var_total = 0\n",
    "\n",
    "for i in range(5):\n",
    "    μ_total = μ_total + μ[i]\n",
    "    var_total = var_total + var[i]\n",
    "print(θ_hat)\n",
    "θ = (math.exp(μ_total + var_total/2))/5\n",
    "print(f\"θ = {θ}\")\n",
    "print(f\"E[f(X)] is equal to {μ_hat + β*(θ - θ_hat)}\")"
   ]
  },
  {
   "cell_type": "code",
   "execution_count": null,
   "id": "b7387b3d",
   "metadata": {},
   "outputs": [],
   "source": []
  }
 ],
 "metadata": {
  "kernelspec": {
   "display_name": "Python 3",
   "language": "python",
   "name": "python3"
  },
  "language_info": {
   "codemirror_mode": {
    "name": "ipython",
    "version": 3
   },
   "file_extension": ".py",
   "mimetype": "text/x-python",
   "name": "python",
   "nbconvert_exporter": "python",
   "pygments_lexer": "ipython3",
   "version": "3.8.8"
  }
 },
 "nbformat": 4,
 "nbformat_minor": 5
}
