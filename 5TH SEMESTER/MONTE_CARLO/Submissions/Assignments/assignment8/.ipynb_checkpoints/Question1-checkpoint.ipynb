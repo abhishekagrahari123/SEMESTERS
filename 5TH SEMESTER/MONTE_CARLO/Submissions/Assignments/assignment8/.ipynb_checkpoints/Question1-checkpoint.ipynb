{
 "cells": [
  {
   "cell_type": "code",
   "execution_count": 1,
   "id": "27012a73",
   "metadata": {},
   "outputs": [],
   "source": [
    "import math\n",
    "import numpy as np\n",
    "import statistics\n",
    "import matplotlib.pyplot as plt"
   ]
  },
  {
   "cell_type": "code",
   "execution_count": 2,
   "id": "13c93820",
   "metadata": {},
   "outputs": [],
   "source": [
    "# this function generates given no of random numbers from [0,1]\n",
    "# Xo is the seed\n",
    "# full period if m is a power of 2, c is odd and a is 4*n + 1\n",
    "(a, c, m, x) = (2053, 1345, pow(2, 40), 3245)\n",
    "\n",
    "def Uniform_Distribution():\n",
    "    global x\n",
    "    x = (a * x + c) % m \n",
    "    return x/m\n",
    "\n",
    "def Weibull_Distribution(k, σ):\n",
    "    U = Uniform_Distribution()\n",
    "    return np.power(-np.log(U)/σ,1/k)"
   ]
  },
  {
   "cell_type": "code",
   "execution_count": 3,
   "id": "31618463",
   "metadata": {},
   "outputs": [
    {
     "name": "stdout",
     "output_type": "stream",
     "text": [
      "99% confidence interval for N=100 is :(-2.4304712207364894, 4.111818594451742)\n",
      "99% confidence interval for N=10000 is :(-26.202949813671548, 27.739599621480142)\n"
     ]
    }
   ],
   "source": [
    "(k, λ, σ) = (0.8, 2.9, 3)\n",
    "for n in [100, 10000]:\n",
    "    Var = 0\n",
    "    μ_strat = 0\n",
    "    for S in range(0,7):\n",
    "        wj = (math.exp(-λ)*(λ**(S)))/math.factorial(S)\n",
    "        nj = int(n*wj)\n",
    "        Yij=[]\n",
    "        μj_hat=0\n",
    "        fij_sum=0;\n",
    "        sj=0\n",
    "        for i in range(0,nj):\n",
    "            Y=0\n",
    "            for j in range(0, S):\n",
    "                Y+=Weibull_Distribution(k, σ)\n",
    "            fij_sum+=Y\n",
    "            Yij.append(Y)\n",
    "            μj_hat+=Y\n",
    "        μj_hat/=nj   \n",
    "        μ_strat+=(wj/nj)*fij_sum\n",
    "        \n",
    "        for i in range(0,nj):\n",
    "            sj+=np.power(Yij[i]- μj_hat, 2)\n",
    "        sj/=1/(nj-1)\n",
    "        Var+=(np.power(wj, 2)*sj)/nj\n",
    "    print(f\"99% confidence interval for N={n} is :({μ_strat-2.58*np.sqrt(Var)}, {μ_strat+2.58*np.sqrt(Var)})\")"
   ]
  }
 ],
 "metadata": {
  "kernelspec": {
   "display_name": "Python 3",
   "language": "python",
   "name": "python3"
  },
  "language_info": {
   "codemirror_mode": {
    "name": "ipython",
    "version": 3
   },
   "file_extension": ".py",
   "mimetype": "text/x-python",
   "name": "python",
   "nbconvert_exporter": "python",
   "pygments_lexer": "ipython3",
   "version": "3.8.8"
  }
 },
 "nbformat": 4,
 "nbformat_minor": 5
}
