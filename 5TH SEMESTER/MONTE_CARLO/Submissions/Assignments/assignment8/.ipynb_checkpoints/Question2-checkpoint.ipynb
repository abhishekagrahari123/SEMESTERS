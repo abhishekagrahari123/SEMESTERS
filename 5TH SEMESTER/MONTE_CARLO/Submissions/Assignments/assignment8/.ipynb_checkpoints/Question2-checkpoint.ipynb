{
 "cells": [
  {
   "cell_type": "code",
   "execution_count": 1,
   "id": "1b9342e9",
   "metadata": {},
   "outputs": [],
   "source": [
    "import math\n",
    "import numpy as np\n",
    "from scipy.special import gammainc as Gα"
   ]
  },
  {
   "cell_type": "code",
   "execution_count": 2,
   "id": "f6ee08e2",
   "metadata": {},
   "outputs": [],
   "source": [
    "# this function generates given no of random numbers from [0,1]\n",
    "# Xo is the seed\n",
    "# full period if m is a power of 2, c is odd and a is 4*n + 1\n",
    "(a, c, m, x) = (2053, 1345, pow(2, 40), 3245)\n",
    "\n",
    "def Uniform_Distribution():\n",
    "    global x\n",
    "    x = (a * x + c) % m \n",
    "    return x/m"
   ]
  },
  {
   "cell_type": "code",
   "execution_count": 3,
   "id": "cee8f157",
   "metadata": {},
   "outputs": [],
   "source": [
    "def Gamma(α, β):\n",
    "    n = α\n",
    "    y = 0\n",
    "    while n > 0:\n",
    "        u = Uniform_Distribution()\n",
    "        x = -1*np.log(u)\n",
    "        y = y + x\n",
    "        n = n-1\n",
    "    return y/β"
   ]
  },
  {
   "cell_type": "code",
   "execution_count": 4,
   "id": "6063f156",
   "metadata": {},
   "outputs": [
    {
     "name": "stdout",
     "output_type": "stream",
     "text": [
      "0.632597270803403\n"
     ]
    }
   ],
   "source": [
    "α = [2082, 1999, 2008, 2047, 2199, 2153, 1999, 2136, 2053, 2121, 1974, 2110, 2110,2168, 2035, 2019, 2044, 2191, 2284, 1912, 2196, 2099, 2041, 2192, 2188, 1984,2158, 2019, 2032 ,2051 ,2192, 2133 ,2142 ,2113 ,2150, 2221, 2046, 2127]\n",
    "β = 1\n",
    "N = 1000\n",
    "\n",
    "H = []\n",
    "s = 0\n",
    "for i in range(N):\n",
    "    y19 = Gamma(α[18], β)\n",
    "    h = 1\n",
    "    for j in range(38):\n",
    "        if j != 18:\n",
    "            h = h * Gα(α[j], y19)\n",
    "    s = s + h\n",
    "\n",
    "μ_cond = s / N\n",
    "print(μ_cond)"
   ]
  }
 ],
 "metadata": {
  "kernelspec": {
   "display_name": "Python 3",
   "language": "python",
   "name": "python3"
  },
  "language_info": {
   "codemirror_mode": {
    "name": "ipython",
    "version": 3
   },
   "file_extension": ".py",
   "mimetype": "text/x-python",
   "name": "python",
   "nbconvert_exporter": "python",
   "pygments_lexer": "ipython3",
   "version": "3.8.8"
  }
 },
 "nbformat": 4,
 "nbformat_minor": 5
}
