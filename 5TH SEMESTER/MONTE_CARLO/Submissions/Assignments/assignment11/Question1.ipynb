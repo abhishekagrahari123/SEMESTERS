{
 "cells": [
  {
   "cell_type": "code",
   "execution_count": 37,
   "id": "6be46a69",
   "metadata": {},
   "outputs": [],
   "source": [
    "import numpy as np\n",
    "import matplotlib.pyplot as plt\n",
    "import seaborn as sns\n",
    "sns.set(style=\"darkgrid\")"
   ]
  },
  {
   "cell_type": "code",
   "execution_count": 38,
   "id": "f454830f",
   "metadata": {},
   "outputs": [],
   "source": [
    "# generates random numbers from [0,1]\n",
    "(a, c, m, x) = (2057, 1345, pow(2, 50), 3245)\n",
    "def uniform():\n",
    "    global x\n",
    "    x = (a * x + c) % m \n",
    "    return x/m"
   ]
  },
  {
   "cell_type": "code",
   "execution_count": 39,
   "id": "d112eed0",
   "metadata": {},
   "outputs": [],
   "source": [
    "# generates normal distribution with mean μ and standard deviation σ\n",
    "def BoxMuller(μ,σ):\n",
    "    R = np.sqrt(-2*np.log(uniform()))\n",
    "    θ = 2*np.pi*uniform()\n",
    "    return μ + σ*R*np.sin(θ)"
   ]
  },
  {
   "cell_type": "code",
   "execution_count": 40,
   "id": "d9f2ba21",
   "metadata": {},
   "outputs": [
    {
     "name": "stdout",
     "output_type": "stream",
     "text": [
      "Average of generated random numbers is -0.33683669692866525\n"
     ]
    },
    {
     "data": {
      "image/png": "[encoded data removed]",
      "text/plain": [
       "<Figure size 432x288 with 1 Axes>"
      ]
     },
     "metadata": {},
     "output_type": "display_data"
    }
   ],
   "source": [
    "# given parameters\n",
    "μ = [-1,0,1]\n",
    "σ = [0.25,1,0.5]\n",
    "π = [1/2,1/3, 1/6]\n",
    "q = [0,π[0],π[0]+π[1],1]\n",
    "\n",
    "X = []\n",
    "s = 0\n",
    "N = 5000\n",
    "\n",
    "# generating N values from the mixture PDF\n",
    "for i in range(N):\n",
    "    u = uniform()\n",
    "    k = 0\n",
    "    for i in range(3):\n",
    "        if q[i] <= u and u <= q[i+1]:\n",
    "            k = i\n",
    "            break\n",
    "    num = BoxMuller(μ[k], σ[k])\n",
    "    s += num\n",
    "    X.append(num)\n",
    "print(f'Average of generated random numbers is {s/N}')    \n",
    "\n",
    "# making histogram\n",
    "plt.hist(X, 80)\n",
    "plt.xlabel('Values')\n",
    "plt.ylabel('Frequency')\n",
    "plt.title('Histogram of random no. from Gaussian Mixture PDF')\n",
    "plt.show()"
   ]
  },
  {
   "cell_type": "code",
   "execution_count": null,
   "id": "ea0f40c9",
   "metadata": {},
   "outputs": [],
   "source": []
  }
 ],
 "metadata": {
  "kernelspec": {
   "display_name": "Python 3",
   "language": "python",
   "name": "python3"
  },
  "language_info": {
   "codemirror_mode": {
    "name": "ipython",
    "version": 3
   },
   "file_extension": ".py",
   "mimetype": "text/x-python",
   "name": "python",
   "nbconvert_exporter": "python",
   "pygments_lexer": "ipython3",
   "version": "3.8.8"
  }
 },
 "nbformat": 4,
 "nbformat_minor": 5
}
