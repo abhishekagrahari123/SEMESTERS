{
 "cells": [
  {
   "cell_type": "code",
   "execution_count": 56,
   "id": "29c356c7",
   "metadata": {},
   "outputs": [],
   "source": [
    "import math\n",
    "import numpy as np\n",
    "import statistics\n",
    "import matplotlib.pyplot as plt\n",
    "import decimal\n",
    "from prettytable import PrettyTable"
   ]
  },
  {
   "cell_type": "code",
   "execution_count": 57,
   "id": "a3ef86a2",
   "metadata": {},
   "outputs": [],
   "source": [
    "# this function generates given no of random numbers from [0,1]\n",
    "# Xo is the seed\n",
    "# full period if m is a power of 2, c is odd and a is 4*n + 1\n",
    "def Uniform_Distribution(Xo, m, a, c,N):\n",
    "    arr1 = []\n",
    "    arr = []\n",
    "    arr1.append(Xo%m)\n",
    "    for i in range(1, N):\n",
    "        arr1.append((arr1[i - 1] * a + c) % m)\n",
    "    for i in range(0,N):\n",
    "        arr.append(arr1[i]/m)\n",
    "    return arr"
   ]
  },
  {
   "cell_type": "code",
   "execution_count": 58,
   "id": "332d9f1b",
   "metadata": {},
   "outputs": [],
   "source": [
    "M = [10**2, 10**3, 10**4, 10**5]\n",
    "Table = PrettyTable()\n",
    "Table.field_names = [\"M\", \"Im-hat\", \"Im\", \"95% CI using Antithetics\", \"95% CI using simple MC\", \"Ratio of width of intervals\"]\n",
    "for j in range(4):\n",
    "    U = Uniform_Distribution(2,2**40, 97, 23, M[j])\n",
    "    \n",
    "# Antithetics Method\n",
    "    N = int(M[j]/2)\n",
    "    s = 0\n",
    "    Yanti = []\n",
    "    for i in range(N):\n",
    "        Yi = (np.exp(np.sqrt(U[i])) + np.exp(np.sqrt(1-U[i])))/2\n",
    "        Yanti.append(Yi)\n",
    "        s = s + Yi\n",
    "    Im_hat = s/N\n",
    "    s = 0\n",
    "    for i in range(N):\n",
    "        s = s + (Yanti[i]-Im_hat)**2\n",
    "    Sn = np.sqrt(s/(N-1))\n",
    "    Lanti = (Im_hat - 1.96*(Sn/np.sqrt(N)))\n",
    "    Uanti = Im_hat + 1.96*(Sn/np.sqrt(N))\n",
    "    \n",
    "# Simple Monte carlo\n",
    "    s = 0\n",
    "    for i in range(M[j]):\n",
    "        Yi = np.exp(np.sqrt(U[i]))\n",
    "        Y.append(Yi)\n",
    "        s = s + Yi\n",
    "    Im = s/M[j]\n",
    "    s = 0\n",
    "    for i in range(M[j]):\n",
    "        s = s + (Y[i]-Im)**2\n",
    "    Sn = np.sqrt(s/(M[j]-1))\n",
    "    L = μ - 1.96*(Sn/np.sqrt(M[j]))\n",
    "    U = μ + 1.96*(Sn/np.sqrt(M[j]))\n",
    "    ratio = (U-L)/(Uanti-Lanti)\n",
    "    Table.add_row([M[j], float(round(Im_hat,8)), float(round(Im,8)), f\"[{float(round(Lanti,8))},{float(round(Uanti,8))}]\", f\"[{float(round(L,8))},{float(round(U,8))}]\", float(round(ratio,8))])"
   ]
  },
  {
   "cell_type": "code",
   "execution_count": 59,
   "id": "07bc81ec",
   "metadata": {
    "scrolled": true
   },
   "outputs": [
    {
     "name": "stdout",
     "output_type": "stream",
     "text": [
      "+--------+------------+------------+--------------------------+-------------------------+-----------------------------+\n",
      "|   M    |   Im-hat   |     Im     | 95% CI using Antithetics |  95% CI using simple MC | Ratio of width of intervals |\n",
      "+--------+------------+------------+--------------------------+-------------------------+-----------------------------+\n",
      "|  100   | 1.98355149 | 1.9996175  | [1.96801625,1.99908672]  | [1.90262461,2.09694244] |          6.25409961         |\n",
      "|  1000  | 1.99703883 | 1.99321038 |  [1.99377685,2.0003008]  | [1.97152457,2.02804248] |          8.66313318         |\n",
      "| 10000  | 1.9993787  | 2.00643207 | [1.99845122,2.00030619]  |  [1.991072,2.00849506]  |          9.3926226          |\n",
      "| 100000 | 1.99978353 | 2.00292144 | [1.99949352,2.00007353]  | [1.99704475,2.00252231] |          9.44394544         |\n",
      "+--------+------------+------------+--------------------------+-------------------------+-----------------------------+\n"
     ]
    }
   ],
   "source": [
    "print(Table)"
   ]
  },
  {
   "cell_type": "code",
   "execution_count": null,
   "id": "bd20a22d",
   "metadata": {},
   "outputs": [],
   "source": []
  }
 ],
 "metadata": {
  "kernelspec": {
   "display_name": "Python 3",
   "language": "python",
   "name": "python3"
  },
  "language_info": {
   "codemirror_mode": {
    "name": "ipython",
    "version": 3
   },
   "file_extension": ".py",
   "mimetype": "text/x-python",
   "name": "python",
   "nbconvert_exporter": "python",
   "pygments_lexer": "ipython3",
   "version": "3.8.8"
  }
 },
 "nbformat": 4,
 "nbformat_minor": 5
}
