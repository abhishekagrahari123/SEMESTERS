{
 "cells": [
  {
   "cell_type": "code",
   "execution_count": 1,
   "id": "2a937737",
   "metadata": {},
   "outputs": [],
   "source": [
    "import math\n",
    "import numpy as np\n",
    "import matplotlib.pyplot as plt\n",
    "import statistics"
   ]
  },
  {
   "cell_type": "code",
   "execution_count": 2,
   "id": "d8c3d352",
   "metadata": {},
   "outputs": [],
   "source": [
    "# generates random numbers from [0,1]\n",
    "# Xo is the seed\n",
    "# full period if m is a power of 2, c is odd and a is 4*n + 1\n",
    "(a, c, m, x) = (2053, 1345, pow(2, 50), 3245)\n",
    "θ = [4,4,2,5,2,3,2,3,2,2]\n",
    "\n",
    "def uniform():\n",
    "    global x\n",
    "    x = (a * x + c) % m \n",
    "    return x/m\n",
    "\n",
    "def calc_mean_and_stddev(X):\n",
    "    s = 0\n",
    "    n = len(X)\n",
    "    for i in range(n):\n",
    "        s = s + X[i]\n",
    "    μ = s/n\n",
    "    s = 0\n",
    "    for i in range(n):\n",
    "        s = s + (X[i]-μ)**2\n",
    "    var = s/n\n",
    "    return μ, np.sqrt(var)\n",
    "\n",
    "# generates a number from F(x) = 1-expo(-x/θ) distribution θ = mean of the distribution\n",
    "def expo(θ):\n",
    "    U = uniform()\n",
    "    return -θ * math.log(U)\n",
    "\n",
    "# generating Ti for given μi\n",
    "def generate_Xp():\n",
    "    X = []\n",
    "    for i in range(10):\n",
    "        t = expo(θ[i])\n",
    "        X.append(t)\n",
    "    return X\n",
    "\n",
    "# generating Ti for mean θ_new\n",
    "def generate_Xq(θ_new):\n",
    "    X = []\n",
    "    for i in range(10):\n",
    "        t = expo(θ_new[i])\n",
    "        X.append(t)\n",
    "    return X\n",
    "\n",
    "# calculates end time\n",
    "def calculate_E(T):\n",
    "    E = []\n",
    "    E.append(T[0])\n",
    "    E.append(E[0] + T[1])\n",
    "    E.append(E[0] + T[2])\n",
    "    E.append(E[1] + T[3])\n",
    "    E.append(E[1] + T[4])\n",
    "    E.append(E[2] + T[5])\n",
    "    E.append(E[2] + T[6])\n",
    "    E.append(E[2] + T[7])\n",
    "    E.append(max(E[4], E[5], E[6]) + T[8])\n",
    "    E.append(max(E[3], E[7], E[8]) + T[9])\n",
    "    return E\n",
    "\n",
    "# calculates p(X), where p is the PDF of nominal distribution\n",
    "def p(X):\n",
    "    prob = 1\n",
    "    for i in range(10):\n",
    "        prob = prob * (np.exp(-X[i]/θ[i]))/θ[i]\n",
    "    return prob\n",
    "\n",
    "# calculates q(X), where q is the PDF of importance distribution \n",
    "def q(X, θ_new):\n",
    "    prob = 1\n",
    "    for i in range(10):\n",
    "        prob = prob * (np.exp(-X[i]/θ_new[i]))/θ_new[i]\n",
    "    return prob\n",
    "\n",
    "# indicator of missing a deadline\n",
    "def f(X):\n",
    "    E = calculate_E(X)\n",
    "    return E[9] > 70\n",
    "\n",
    "def h(X, θ_new):\n",
    "    return (f(X)*p(X))/q(X, θ_new)\n",
    "\n",
    "# performs importance sampling method and returns mean, variance and nₑ\n",
    "def Imp_sampling(θ_new):\n",
    "    X_imp = []\n",
    "    s1 = 0\n",
    "    s2 = 0\n",
    "    for i in range(N):\n",
    "        X = generate_Xq(θ_new)\n",
    "        w = p(X)/q(X, θ_new)\n",
    "        s1 += w\n",
    "        s2 += w**2\n",
    "        X_imp.append(h(X,θ_new))\n",
    "    nₑ = (s1*s1)/s2\n",
    "    μ_imp, stddev_imp = calc_mean_and_stddev(X_imp)\n",
    "    return μ_imp, stddev_imp, nₑ "
   ]
  },
  {
   "cell_type": "code",
   "execution_count": 3,
   "id": "9e0ba70a",
   "metadata": {},
   "outputs": [],
   "source": [
    "# part (b)\n",
    "N = 10000\n",
    "X = []\n",
    "\n",
    "for i in range(N):    \n",
    "    T = generate_Xp()\n",
    "    E = calculate_E(T)\n",
    "    X.append(E[9])"
   ]
  },
  {
   "cell_type": "code",
   "execution_count": 4,
   "id": "af451057",
   "metadata": {},
   "outputs": [
    {
     "data": {
      "image/png": "[encoded data removed]",
      "text/plain": [
       "<Figure size 432x288 with 1 Axes>"
      ]
     },
     "metadata": {
      "needs_background": "light"
     },
     "output_type": "display_data"
    }
   ],
   "source": [
    "# part (c)\n",
    "plt.hist(X, bins = 100)\n",
    "plt.show()"
   ]
  },
  {
   "cell_type": "code",
   "execution_count": 5,
   "id": "de1341f6",
   "metadata": {},
   "outputs": [
    {
     "name": "stdout",
     "output_type": "stream",
     "text": [
      "Probability of missing a deadline is 0.0001\n",
      "Variance is 0.009999499987501888\n"
     ]
    }
   ],
   "source": [
    "# part (d)\n",
    "s = 0\n",
    "for i in range(N):\n",
    "    if(X[i] >= 70):\n",
    "        s+=1\n",
    "p_delay = s/N\n",
    "s = 0\n",
    "for i in range(N):\n",
    "    I = 0\n",
    "    if X[i] >= 70:\n",
    "        I = 1\n",
    "    s = s + (I-p_delay)**2\n",
    "stddev = np.sqrt(s/N)\n",
    "\n",
    "print(f\"Probability of missing a deadline is {p_delay}\")\n",
    "print(f\"Variance is {stddev}\")"
   ]
  },
  {
   "cell_type": "code",
   "execution_count": 6,
   "id": "8093f6e8",
   "metadata": {},
   "outputs": [
    {
     "name": "stdout",
     "output_type": "stream",
     "text": [
      "μ_imp = 5.0172865727070035e-05\n",
      "stddev_imp = 0.0030142608908469565\n",
      "nₑ = 11.527863597940376\n"
     ]
    }
   ],
   "source": [
    "# part (e)\n",
    "θ_new = []\n",
    "for i in range(10):\n",
    "    θ_new.append(4*θ[i])\n",
    "\n",
    "μ_imp, stddev_imp, nₑ = Imp_sampling(θ_new)\n",
    "\n",
    "print(f\"μ_imp = {μ_imp}\")\n",
    "print(f\"stddev_imp = {stddev_imp}\")\n",
    "print(f\"nₑ = {nₑ}\")"
   ]
  },
  {
   "cell_type": "code",
   "execution_count": 7,
   "id": "cf22257f",
   "metadata": {},
   "outputs": [
    {
     "name": "stdout",
     "output_type": "stream",
     "text": [
      "κ = 3.0:\n",
      "   μ_imp = 3.2093682879512505e-05\n",
      "   stddev_imp = 0.00017974985759344224\n",
      "   nₑ = 974.2996399406761\n",
      "   CI = [-0.0004316609497115685,0.0004958483154705936]\n",
      "κ = 4.0:\n",
      "   μ_imp = 3.125380185317744e-05\n",
      "   stddev_imp = 0.0001562587143824664\n",
      "   nₑ = 355.5271356159728\n",
      "   CI = [-0.00037189368125358586,0.0004344012849599408]\n",
      "κ = 5.0:\n",
      "   μ_imp = 3.1328659129042744e-05\n",
      "   stddev_imp = 0.0001639561292479486\n",
      "   nₑ = 178.46361425213095\n",
      "   CI = [-0.00039167815433066463,0.00045433547258875014]\n"
     ]
    }
   ],
   "source": [
    "# part (f)\n",
    "for κ in [3.0, 4.0, 5.0]:\n",
    "    θ_new = [0]*10\n",
    "    for i in range(10):\n",
    "        θ_new[i] = θ[i]\n",
    "        if i in [0,1,3,9]:\n",
    "            θ_new[i] *= κ\n",
    "    μ_imp, stddev_imp, nₑ = Imp_sampling(θ_new)\n",
    "    print(f\"κ = {κ}:\")\n",
    "    print(f\"   μ_imp = {μ_imp}\")\n",
    "    print(f\"   stddev_imp = {stddev_imp}\")\n",
    "    print(f\"   nₑ = {nₑ}\")\n",
    "    print(f\"   CI = [{μ_imp-2.58*stddev_imp},{μ_imp+2.58*stddev_imp}]\")"
   ]
  },
  {
   "cell_type": "code",
   "execution_count": 8,
   "id": "34340826",
   "metadata": {},
   "outputs": [
    {
     "name": "stdout",
     "output_type": "stream",
     "text": [
      "κ = 5.0 give minimum effective sample size\n"
     ]
    }
   ],
   "source": [
    "# part (h)\n",
    "print(\"κ = 5.0 give minimum effective sample size\")\n",
    "# CI for every κ is printed above"
   ]
  }
 ],
 "metadata": {
  "interpreter": {
   "hash": "6d81e14efdf2b2b069cdefaacdf16081bee34d8d5c94b3d415e6c3ad4f5f9598"
  },
  "kernelspec": {
   "display_name": "Python 3",
   "language": "python",
   "name": "python3"
  },
  "language_info": {
   "codemirror_mode": {
    "name": "ipython",
    "version": 3
   },
   "file_extension": ".py",
   "mimetype": "text/x-python",
   "name": "python",
   "nbconvert_exporter": "python",
   "pygments_lexer": "ipython3",
   "version": "3.8.8"
  }
 },
 "nbformat": 4,
 "nbformat_minor": 5
}
