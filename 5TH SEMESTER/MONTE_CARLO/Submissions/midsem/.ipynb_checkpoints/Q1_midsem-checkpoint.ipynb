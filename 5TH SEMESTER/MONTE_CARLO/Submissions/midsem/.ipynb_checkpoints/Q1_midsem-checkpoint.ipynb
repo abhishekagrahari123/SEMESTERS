{
 "cells": [
  {
   "cell_type": "code",
   "execution_count": 1,
   "id": "991ccf79",
   "metadata": {},
   "outputs": [],
   "source": [
    "import numpy as np\n",
    "import matplotlib.pyplot as plt\n",
    "from matplotlib.pyplot import figure\n",
    "from statistics import mean\n",
    "import math\n",
    "import numpy.random as rd"
   ]
  },
  {
   "cell_type": "code",
   "execution_count": 4,
   "id": "c5b233cd",
   "metadata": {},
   "outputs": [],
   "source": [
    "# this function generates given no of random numbers from [0,1]\n",
    "# Xo is the seed\n",
    "# full period if m is a power of 2, c is odd and a is 4*n + 1\n",
    "def Uniform_Distribution(Xo, m, a, c,N):\n",
    "    arr1 = []\n",
    "    arr = []\n",
    "    arr1.append(Xo%m)\n",
    "    for i in range(1, N):\n",
    "        arr1.append((arr1[i - 1] * a + c) % m)\n",
    "    for i in range(0,N):\n",
    "        arr.append(arr1[i]/m)\n",
    "    return arr"
   ]
  },
  {
   "cell_type": "code",
   "execution_count": 35,
   "id": "ac3d6da1",
   "metadata": {
    "scrolled": true
   },
   "outputs": [
    {
     "data": {
      "image/png": "[encoded data removed]",
      "text/plain": [
       "<Figure size 432x288 with 1 Axes>"
      ]
     },
     "metadata": {
      "needs_background": "light"
     },
     "output_type": "display_data"
    },
    {
     "data": {
      "image/png": "[encoded data removed]",
      "text/plain": [
       "<Figure size 432x288 with 1 Axes>"
      ]
     },
     "metadata": {
      "needs_background": "light"
     },
     "output_type": "display_data"
    }
   ],
   "source": [
    "# using inverse transform technique to generate the amount of rainfall\n",
    "(θ, N) = (0.5, 1000)\n",
    "\n",
    "U1 = Uniform_Distribution(31, 2**40, 101, 3,N)\n",
    "U2 = Uniform_Distribution(19, 2**40, 65, 9,N)\n",
    "\n",
    "X = []\n",
    "Y = []\n",
    "total_Rain = 0\n",
    "for i in range(N):\n",
    "    if U1[i] <= 0.2:\n",
    "        X.append(-θ*np.log(U2[i]))\n",
    "        Y.append(-θ*np.log(U2[i]))\n",
    "        total_Rain = total_Rain -θ*np.log(U2[i])\n",
    "    else:\n",
    "        Y.append(0)\n",
    "\n",
    "plt.hist(X,bins = np.arange(0,2,0.05))\n",
    "plt.ylabel(\"Recieved Rainfall\")\n",
    "plt.title(\"Recieved Rainfall if it rains\")\n",
    "plt.show()\n",
    "\n",
    "# plotting CDF\n",
    "count, bins_count = np.histogram(X, bins=200)\n",
    "  \n",
    "# calculating PDF \n",
    "pdf = count / sum(count)\n",
    "  \n",
    "# calculating CDF\n",
    "cdf = np.cumsum(pdf)\n",
    "  \n",
    "# plotting CDF\n",
    "plt.plot(bins_count[1:], cdf)\n",
    "plt.title(\"CDF\")\n",
    "plt.show()"
   ]
  },
  {
   "cell_type": "code",
   "execution_count": 36,
   "id": "0e7eb143",
   "metadata": {},
   "outputs": [
    {
     "data": {
      "text/plain": [
       "0.12918667675430764"
      ]
     },
     "execution_count": 36,
     "metadata": {},
     "output_type": "execute_result"
    }
   ],
   "source": [
    "np.mean(Y)"
   ]
  },
  {
   "cell_type": "code",
   "execution_count": null,
   "id": "0ccc04c3",
   "metadata": {},
   "outputs": [],
   "source": []
  }
 ],
 "metadata": {
  "kernelspec": {
   "display_name": "Python 3",
   "language": "python",
   "name": "python3"
  },
  "language_info": {
   "codemirror_mode": {
    "name": "ipython",
    "version": 3
   },
   "file_extension": ".py",
   "mimetype": "text/x-python",
   "name": "python",
   "nbconvert_exporter": "python",
   "pygments_lexer": "ipython3",
   "version": "3.8.8"
  }
 },
 "nbformat": 4,
 "nbformat_minor": 5
}
