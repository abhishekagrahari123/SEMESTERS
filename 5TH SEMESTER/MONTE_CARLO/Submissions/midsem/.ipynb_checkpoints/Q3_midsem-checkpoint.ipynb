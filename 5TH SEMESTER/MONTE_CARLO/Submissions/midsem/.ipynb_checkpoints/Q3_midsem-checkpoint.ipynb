{
 "cells": [
  {
   "cell_type": "code",
   "execution_count": 2,
   "id": "6919e61a",
   "metadata": {},
   "outputs": [],
   "source": [
    "import numpy as np\n",
    "import matplotlib.pyplot as plt\n",
    "from matplotlib.pyplot import figure\n",
    "from statistics import mean\n",
    "import math\n",
    "import numpy.random as rd"
   ]
  },
  {
   "cell_type": "code",
   "execution_count": 3,
   "id": "88536689",
   "metadata": {},
   "outputs": [],
   "source": [
    "# this function generates given no of random numbers from [0,1]\n",
    "# Xo is the seed\n",
    "# full period if m is a power of 2, c is odd and a is 4*n + 1\n",
    "def Uniform_Distribution(Xo, m, a, c,N):\n",
    "    arr1 = []\n",
    "    arr = []\n",
    "    arr1.append(Xo%m)\n",
    "    for i in range(1, N):\n",
    "        arr1.append((arr1[i - 1] * a + c) % m)\n",
    "    for i in range(0,N):\n",
    "        arr.append(arr1[i]/m)\n",
    "    return arr"
   ]
  },
  {
   "cell_type": "code",
   "execution_count": 39,
   "id": "529fc4c7",
   "metadata": {},
   "outputs": [],
   "source": [
    "# it is the inverse of CDF of g\n",
    "def G_inverse(x):\n",
    "    return 2*np.tan(np.pi*(x-0.5))\n",
    "\n",
    "# dominating PDF\n",
    "def g(x):\n",
    "    return 1/(x*np.pi*(1 + (x**2)/4))\n",
    "\n",
    "# target PDF\n",
    "def f(x):\n",
    "    v = 3.2\n",
    "    return (math.gamma((v+1)/2)*((1 + (x**2)/v)**((-v-1)/2)))/(np.sqrt(np.pi*v)*math.gamma(v/2))\n",
    "\n",
    "def acc_rej(N):\n",
    "    Iteration_cnt = 0\n",
    "    # generating number with density g(x)\n",
    "    num = 10*N\n",
    "    U1 = Uniform_Distribution(31, 2**60, 101, 3,num)\n",
    "    X = []\n",
    "    for i in range(num):\n",
    "        X.append(G_inverse(U1[i]))    \n",
    "    c = (math.gamma(2.1)*2*np.pi)/((np.sqrt(np.pi*3.2))*math.gamma(1.6))\n",
    "    print(1/c)\n",
    "# generated for accepting value with a give probability     \n",
    "    U2 = Uniform_Distribution(19, 2**50, 65, 9,num)\n",
    "    j = 0\n",
    "    out = np.zeros(N)\n",
    "    for i in range(N):\n",
    "        while True:\n",
    "            Iteration_cnt = Iteration_cnt + 1\n",
    "            x = X[j]\n",
    "            u2 = U2[j]\n",
    "            j = j + 1\n",
    "# accepting the generated value with prob f(x)/c*g(x)\n",
    "            if c*g(x)*u2 <= f(x):\n",
    "                out[i] = x\n",
    "                break\n",
    "    return out, Iteration_cnt"
   ]
  },
  {
   "cell_type": "code",
   "execution_count": 40,
   "id": "3f4fcf41",
   "metadata": {},
   "outputs": [
    {
     "name": "stdout",
     "output_type": "stream",
     "text": [
      "0.43086251830168326\n"
     ]
    }
   ],
   "source": [
    "arr, cnt = acc_rej(1000)"
   ]
  },
  {
   "cell_type": "code",
   "execution_count": 42,
   "id": "4244d92b",
   "metadata": {},
   "outputs": [
    {
     "name": "stdout",
     "output_type": "stream",
     "text": [
      "0.6191950464396285\n"
     ]
    }
   ],
   "source": [
    "print(1000/cnt)"
   ]
  },
  {
   "cell_type": "code",
   "execution_count": null,
   "id": "667ad4f8",
   "metadata": {},
   "outputs": [],
   "source": []
  },
  {
   "cell_type": "code",
   "execution_count": null,
   "id": "07b5e377",
   "metadata": {},
   "outputs": [],
   "source": []
  }
 ],
 "metadata": {
  "kernelspec": {
   "display_name": "Python 3",
   "language": "python",
   "name": "python3"
  },
  "language_info": {
   "codemirror_mode": {
    "name": "ipython",
    "version": 3
   },
   "file_extension": ".py",
   "mimetype": "text/x-python",
   "name": "python",
   "nbconvert_exporter": "python",
   "pygments_lexer": "ipython3",
   "version": "3.8.8"
  }
 },
 "nbformat": 4,
 "nbformat_minor": 5
}
